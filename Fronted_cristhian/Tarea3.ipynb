{
  "nbformat": 4,
  "nbformat_minor": 0,
  "metadata": {
    "colab": {
      "name": "Lista Doblemente Enlazadas.ipynb",
      "provenance": [],
      "authorship_tag": "ABX9TyPBuB+KSIiZ7dISIIkXCWJp",
      "include_colab_link": true
    },
    "kernelspec": {
      "name": "python3",
      "display_name": "Python 3"
    },
    "language_info": {
      "name": "python"
    }
  },
  "cells": [
    {
      "cell_type": "markdown",
      "metadata": {
        "id": "view-in-github",
        "colab_type": "text"
      },
      "source": [
        "<a href=\"https://colab.research.google.com/github/Ayeser-Cristian/IPC1_Fronted_Proyecto2/blob/main/Tarea3.ipynb\" target=\"_parent\"><img src=\"https://colab.research.google.com/assets/colab-badge.svg\" alt=\"Open In Colab\"/></a>"
      ]
    },
    {
      "cell_type": "markdown",
      "metadata": {
        "id": "3e8_bN_qxNJq"
      },
      "source": [
        "**Definición Clase Estudiante**"
      ]
    },
    {
      "cell_type": "code",
      "metadata": {
        "id": "l7hsQiWXxR2f"
      },
      "source": [
        "class Estudiante:\n",
        "  def __init__(self, Carnet, Nombre, Edad, Address, Phone, Email, Carrera, Puesto):\n",
        "    self.Carnet = Carnet\n",
        "    self.Nombre = Nombre\n",
        "    self.Edad = Edad\n",
        "    self.Address = Address\n",
        "    self.Phone = Phone\n",
        "    self.Email = Email\n",
        "    self.Carrera = Carrera\n",
        "    self.Puesto = Puesto"
      ],
      "execution_count": 1,
      "outputs": []
    },
    {
      "cell_type": "markdown",
      "metadata": {
        "id": "MjjhaHNUz47O"
      },
      "source": [
        "***Defiición de clase Nodo***"
      ]
    },
    {
      "cell_type": "code",
      "metadata": {
        "id": "EN4Qmk-Nz7yE"
      },
      "source": [
        "class Nodo:\n",
        "  def __init__(self, Estudiante = None, Siguiente = None, Anterior = None):\n",
        "    self.Estudiante = Estudiante\n",
        "    self.Siguiente = Siguiente\n",
        "    self.Anterior = Anterior"
      ],
      "execution_count": 2,
      "outputs": []
    },
    {
      "cell_type": "markdown",
      "metadata": {
        "id": "vYwt9uh80Ti-"
      },
      "source": [
        "***Definición de la Clase Lista Doblomenete Enlazada***"
      ]
    },
    {
      "cell_type": "code",
      "metadata": {
        "id": "OO-4nbBV0aDC"
      },
      "source": [
        "class lista_doble:\n",
        "  def __init__(self):\n",
        "    self.Primero = None\n",
        "\n",
        "  def insertar(self, Estudiante):\n",
        "    if self.Primero is None:\n",
        "      self.Primero = Nodo(Estudiante=Estudiante)\n",
        "    else:\n",
        "      actual = Nodo(Estudiante=Estudiante,Siguiente=self.Primero)\n",
        "      self.Primero.Anterior = actual\n",
        "      self.Primero = actual\n",
        "\n",
        "  def recorrer(self):\n",
        "    if self.Primero is None:\n",
        "      return\n",
        "    actual = self.Primero\n",
        "    print(f\"Carnet: {actual.Estudiante.Carnet}, Nombre: {actual.Estudiante.Nombre}, Email: {actual.Estudiante.Email}\")\n",
        "    while actual.Siguiente:\n",
        "      actual = actual.Siguiente\n",
        "      print(f\"Carnet: {actual.Estudiante.Carnet}, Nombre: {actual.Estudiante.Nombre}, Email: {actual.Estudiante.Email}\")\n",
        "\n",
        "  def eliminar(self,Carnet):\n",
        "    actual = self.Primero\n",
        "    while actual:\n",
        "      if actual.Estudiante.Carnet == Carnet:\n",
        "        if actual.Anterior:\n",
        "          if actual.Siguiente:\n",
        "            actual.Anterior.Siguiente = actual.Siguiente\n",
        "            actual.Siguiente.Anterior = actual.Anterior\n",
        "          else:\n",
        "            actual.Anterior.Siguiente = None\n",
        "            actual.Anterior = None\n",
        "        else:\n",
        "          if actual.Siguiente:\n",
        "            self.Primero = actual.Siguiente\n",
        "            actual.Siguiente.Anterior = None\n",
        "          else:\n",
        "            self.Primero = None\n",
        "        return True\n",
        "      else:\n",
        "        actual = actual.Siguiente\n",
        "    return False\n",
        "\n",
        "\n",
        "  ##Metodo busqueda, TAREA 3 :v\n",
        "  def buscar(self,Carnet):\n",
        "      Actual=self.Primero\n",
        "      while Actual !=None: \n",
        "        if Actual.Estudiante.Carnet == Carnet:\n",
        "          print(\"carne: \", Actual.Estudiante.Carnet, \"nombre: \", Actual.Estudiante.Nombre, \"email: \", Actual.Estudiante.Email, \"->\" )\n",
        "          break \n",
        "        else:\n",
        "          Actual = Actual.Siguiente\n",
        "      if Actual==None:\n",
        "        print(\"Los datos del carne:\",Carnet,\"no existen\")\n"
      ],
      "execution_count": 3,
      "outputs": []
    },
    {
      "cell_type": "markdown",
      "metadata": {
        "id": "5OxZ347C2jMC"
      },
      "source": [
        "***Creación de objetos Estudiantes***"
      ]
    },
    {
      "cell_type": "code",
      "metadata": {
        "id": "tkirB0jT2V8N"
      },
      "source": [
        "e1 = Estudiante(201915059, \"Gerson Ortiz\", 20, \"0 calle 18-82 zona 1\", 24400101,\"gerson.ortiz@gmail.com\", \"Ingenieria en Sistemas\", \"Programador Jr\")\n",
        "e2 = Estudiante(201915060, \"Karen Hurtarte\", 21, \"7 calle 18-82 zona 1\", 24400102,\"karen.hurtarte@gmail.com\", \"Ingenieria en Sistemas\", \"Programador Jr\")\n",
        "e3 = Estudiante(201915061, \"Luis Mendez\", 22, \"8 calle 18-82 zona 1\", 24400101,\"luis.mendez@gmail.com\", \"Ingenieria en Sistemas\", \"Programador Jr\")"
      ],
      "execution_count": 4,
      "outputs": []
    },
    {
      "cell_type": "markdown",
      "metadata": {
        "id": "BdTA5QLi2qyO"
      },
      "source": [
        "***Inserción***"
      ]
    },
    {
      "cell_type": "code",
      "metadata": {
        "id": "XAftKLUq2XWL"
      },
      "source": [
        "lista_d = lista_doble()\n",
        "lista_d.insertar(e1)\n",
        "lista_d.insertar(e2)\n",
        "lista_d.insertar(e3)"
      ],
      "execution_count": 5,
      "outputs": []
    },
    {
      "cell_type": "markdown",
      "metadata": {
        "id": "XJH3e-QNtONL"
      },
      "source": [
        "***Recorrer Lista***\n"
      ]
    },
    {
      "cell_type": "code",
      "metadata": {
        "colab": {
          "base_uri": "https://localhost:8080/"
        },
        "id": "D5ZndMSHtTRQ",
        "outputId": "feb462f7-0372-46f1-cf79-8c49afb12d55"
      },
      "source": [
        "lista_d.recorrer()"
      ],
      "execution_count": 6,
      "outputs": [
        {
          "output_type": "stream",
          "text": [
            "Carnet: 201915061, Nombre: Luis Mendez, Email: luis.mendez@gmail.com\n",
            "Carnet: 201915060, Nombre: Karen Hurtarte, Email: karen.hurtarte@gmail.com\n",
            "Carnet: 201915059, Nombre: Gerson Ortiz, Email: gerson.ortiz@gmail.com\n"
          ],
          "name": "stdout"
        }
      ]
    },
    {
      "cell_type": "markdown",
      "metadata": {
        "id": "dBcBfKE-tV0F"
      },
      "source": [
        "**Eliminar un nodo de la lista**"
      ]
    },
    {
      "cell_type": "code",
      "metadata": {
        "colab": {
          "base_uri": "https://localhost:8080/"
        },
        "id": "GtAxSM6DtYbo",
        "outputId": "eeee3f0a-dfba-4a07-ae42-b28aa95768c0"
      },
      "source": [
        "lista_d.eliminar(201915059)\n",
        "lista_d.recorrer()"
      ],
      "execution_count": 7,
      "outputs": [
        {
          "output_type": "stream",
          "text": [
            "Carnet: 201915061, Nombre: Luis Mendez, Email: luis.mendez@gmail.com\n",
            "Carnet: 201915060, Nombre: Karen Hurtarte, Email: karen.hurtarte@gmail.com\n"
          ],
          "name": "stdout"
        }
      ]
    },
    {
      "cell_type": "markdown",
      "metadata": {
        "id": "-A2Gw04oY4PB"
      },
      "source": [
        "***Busca un nodo de la lista***"
      ]
    },
    {
      "cell_type": "code",
      "metadata": {
        "colab": {
          "base_uri": "https://localhost:8080/"
        },
        "id": "2lsnzpEVY47T",
        "outputId": "355929fa-7b91-40b8-fc26-509afc06b5b0"
      },
      "source": [
        "lista_d.buscar(201915059) ##ESTOS DATOS FUERON ELIMINADOS ANTERIORMENTE, POR LO CUAL NO SERÁ ENCONTRADO.\n",
        "lista_d.buscar(201915060)\n",
        "lista_d.buscar(201915061)"
      ],
      "execution_count": 8,
      "outputs": [
        {
          "output_type": "stream",
          "text": [
            "Los datos del carne: 201915059 no existen\n",
            "carne:  201915060 nombre:  Karen Hurtarte email:  karen.hurtarte@gmail.com ->\n",
            "carne:  201915061 nombre:  Luis Mendez email:  luis.mendez@gmail.com ->\n"
          ],
          "name": "stdout"
        }
      ]
    }
  ]
}